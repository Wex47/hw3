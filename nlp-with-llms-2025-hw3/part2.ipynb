{
 "cells": [
  {
   "cell_type": "markdown",
   "id": "8fda62d2",
   "metadata": {},
   "source": [
    "# Task 4.4.0\n",
    "Implement the DSPy Module: Create a DSPy module that uses the strategy you devise to generate a cooperative answer."
   ]
  },
  {
   "cell_type": "markdown",
   "id": "01ecf192",
   "metadata": {},
   "source": [
    "# DSPy pipeline with in the Multi-Hop fashion (in the forward). \n",
    "\n",
    "Steps:\n",
    "1) Define the first step and second step signatures\n",
    "2) Define the retriever function. consider dividing to 2 parts , and look for the docs in the most relevant folder. use ColBERTv2?\n",
    "3) Define the dspy pipeline. use CoT?\n",
    "4) Load the dataset\n",
    "5) Unpack it into DSPy.examples\n",
    "6) run the pipeline\n",
    "\n",
    "\n",
    "DSPy signature 1: \n",
    "\n",
    "- input fields:\n",
    "- The previous turns (question, answer) \n",
    "- the context retrieved by the retriever (the context should be retrieved using RAG.)\n",
    "- the current question\n",
    "\n",
    "output fields:\n",
    "- previous turns\n",
    "- context\n",
    "- current question\n",
    "- summary of the student's goal or interests\n",
    "- pragmatic or cooperative need underlying the student's current question (based on the past conversation and retrieved spans)\n",
    "\n",
    "\n",
    "Step 2 dspy signtures\n",
    "\n",
    "- input fields - > output from step 1.\n",
    "- output field: a cooperative answer to the current question.\n"
   ]
  },
  {
   "cell_type": "markdown",
   "id": "4ec96e3c",
   "metadata": {},
   "source": [
    "# Design plan\n",
    "\n",
    "1) Define DSPy Signatures\n",
    "Step 1 (Interpretation): history, current Q, context → history, current Q, context, student_goal, pragmatic_need\n",
    "Step 2 (Retrieval): expanded_query, conversation_summary → refined_context\n",
    "Step 3 (Answering): history, current Q, summary, goal, need, refined_context → cooperative_answer\n",
    "\n",
    "2) Implement Retriever\n",
    "Index HTML sources.\n",
    "Retrieval cascade: BM25 (topic folder) → ColBERTv2/FAISS (fine passages).\n",
    "\n",
    "3) Build Pipeline Forward Pass\n",
    "Step 1 → Step 2 → Step 3.\n",
    "Add loop if retrieval weak (multi-hop).\n",
    "\n",
    "4) Prepare Data\n",
    "Load PragmatiCQA train/val/test JSONL.\n",
    "Convert each round to DSPy example.\n",
    "Truncate long histories.\n",
    "\n",
    "5) Train & Run\n",
    "Few-shot or supervised training on train set.\n",
    "Run pipeline on val/test sets."
   ]
  },
  {
   "cell_type": "code",
   "execution_count": null,
   "id": "a5fa5c28",
   "metadata": {},
   "outputs": [],
   "source": [
    "# Configure the LLM Model\n",
    "\n",
    "# lm = dspy.LM('ollama_chat/devstral', api_base='http://localhost:11434', api_key='')\n",
    "import dspy\n",
    "import os\n",
    "from dotenv import load_dotenv\n",
    "load_dotenv(\"../grok_key.ini\")\n",
    "lm = dspy.LM('xai/grok-3-mini', api_key=os.environ['XAI_API_KEY'])\n",
    "dspy.configure(lm=lm)"
   ]
  },
  {
   "cell_type": "code",
   "execution_count": null,
   "id": "aa18b7e8",
   "metadata": {},
   "outputs": [],
   "source": [
    "\n",
    "class enriched_query(dspy.Signature):\n",
    "    history = dspy.InputField()\n",
    "    current_question = dspy.InputField()\n",
    "    context = dspy.InputField()\n",
    "\n",
    "    # Outputs: keep inputs\n",
    "    history = dspy.OutputField()              # pass-through\n",
    "    current_question = dspy.OutputField()     # pass-through\n",
    "    context = dspy.OutputField()      # pass-through\n",
    "\n",
    "    # enrichments\n",
    "    student_goal = dspy.OutputField()\n",
    "    pragmatic_need = dspy.OutputField()\n",
    "\n",
    "\n",
    "class answer(dspy.Signature):\n",
    "    history = dspy.InputField()\n",
    "    current_question = dspy.InputField()\n",
    "    context = dspy.InputField()\n",
    "    student_goal = dspy.InputField()\n",
    "    pragmatic_need = dspy.InputField()\n",
    "\n",
    "    #\n",
    "    cooperative_answer = dspy.OutputField()"
   ]
  },
  {
   "cell_type": "code",
   "execution_count": 12,
   "id": "456b2c6f",
   "metadata": {},
   "outputs": [
    {
     "data": {
      "application/vnd.jupyter.widget-view+json": {
       "model_id": "016d235d4cb84d8b99fc6b0853edd2d3",
       "version_major": 2,
       "version_minor": 0
      },
      "text/plain": [
       "Split strings:   0%|          | 0/74 [00:00<?, ?it/s]"
      ]
     },
     "metadata": {},
     "output_type": "display_data"
    },
    {
     "data": {
      "application/vnd.jupyter.widget-view+json": {
       "model_id": "1f126219289e4318bb2787c5bd47b3d2",
       "version_major": 2,
       "version_minor": 0
      },
      "text/plain": [
       "Stem Tokens:   0%|          | 0/74 [00:00<?, ?it/s]"
      ]
     },
     "metadata": {},
     "output_type": "display_data"
    },
    {
     "data": {
      "application/vnd.jupyter.widget-view+json": {
       "model_id": "0f442520f9cf477fa043e7e2c62f63fe",
       "version_major": 2,
       "version_minor": 0
      },
      "text/plain": [
       "BM25S Count Tokens:   0%|          | 0/74 [00:00<?, ?it/s]"
      ]
     },
     "metadata": {},
     "output_type": "display_data"
    },
    {
     "data": {
      "application/vnd.jupyter.widget-view+json": {
       "model_id": "36330d8e369b40f9977f6335ccd61d99",
       "version_major": 2,
       "version_minor": 0
      },
      "text/plain": [
       "BM25S Compute Scores:   0%|          | 0/74 [00:00<?, ?it/s]"
      ]
     },
     "metadata": {},
     "output_type": "display_data"
    },
    {
     "ename": "ValueError",
     "evalue": "setting an array element with a sequence. The requested array has an inhomogeneous shape after 1 dimensions. The detected shape was (74,) + inhomogeneous part.",
     "output_type": "error",
     "traceback": [
      "\u001b[31m---------------------------------------------------------------------------\u001b[39m",
      "\u001b[31mValueError\u001b[39m                                Traceback (most recent call last)",
      "\u001b[36mCell\u001b[39m\u001b[36m \u001b[39m\u001b[32mIn[12]\u001b[39m\u001b[32m, line 31\u001b[39m\n\u001b[32m     28\u001b[39m             folder_name = \u001b[33m\"\u001b[39m\u001b[33mUNKNOWN\u001b[39m\u001b[33m\"\u001b[39m\n\u001b[32m     29\u001b[39m         \u001b[38;5;28mprint\u001b[39m(\u001b[33mf\u001b[39m\u001b[33m\"\u001b[39m\u001b[33mresult: \u001b[39m\u001b[38;5;132;01m{\u001b[39;00mfolder_name\u001b[38;5;132;01m}\u001b[39;00m\u001b[33m , score: \u001b[39m\u001b[38;5;132;01m{\u001b[39;00mscores[i]\u001b[38;5;132;01m}\u001b[39;00m\u001b[33m\"\u001b[39m)\n\u001b[32m---> \u001b[39m\u001b[32m31\u001b[39m \u001b[43msearch\u001b[49m\u001b[43m(\u001b[49m\u001b[33;43m\"\u001b[39;49m\u001b[33;43mHarry\u001b[39;49m\u001b[33;43m\"\u001b[39;49m\u001b[43m,\u001b[49m\u001b[43m \u001b[49m\u001b[32;43m3\u001b[39;49m\u001b[43m)\u001b[49m\n",
      "\u001b[36mCell\u001b[39m\u001b[36m \u001b[39m\u001b[32mIn[12]\u001b[39m\u001b[32m, line 24\u001b[39m, in \u001b[36msearch\u001b[39m\u001b[34m(query, k)\u001b[39m\n\u001b[32m     22\u001b[39m \u001b[38;5;28;01mfor\u001b[39;00m i, token_list \u001b[38;5;129;01min\u001b[39;00m \u001b[38;5;28menumerate\u001b[39m(results):\n\u001b[32m     23\u001b[39m     \u001b[38;5;28;01mfor\u001b[39;00m j, ct \u001b[38;5;129;01min\u001b[39;00m \u001b[38;5;28menumerate\u001b[39m(corpus_tokens):\n\u001b[32m---> \u001b[39m\u001b[32m24\u001b[39m         \u001b[38;5;28;01mif\u001b[39;00m \u001b[43mct\u001b[49m\u001b[43m \u001b[49m\u001b[43m==\u001b[49m\u001b[43m \u001b[49m\u001b[43mtoken_list\u001b[49m:\n\u001b[32m     25\u001b[39m             folder_name = folder_names[j]\n\u001b[32m     26\u001b[39m             \u001b[38;5;28;01mbreak\u001b[39;00m\n",
      "\u001b[31mValueError\u001b[39m: setting an array element with a sequence. The requested array has an inhomogeneous shape after 1 dimensions. The detected shape was (74,) + inhomogeneous part."
     ]
    }
   ],
   "source": [
    "import bm25s\n",
    "import Stemmer\n",
    "import os\n",
    "\n",
    "# Original folder names\n",
    "folder_names = os.listdir(\"../PragmatiCQA-sources\")\n",
    "\n",
    "stemmer = Stemmer.Stemmer(\"english\")\n",
    "\n",
    "# Tokenize each folder name\n",
    "corpus_tokens = bm25s.tokenize(folder_names, stopwords=\"en\", stemmer=stemmer)\n",
    "\n",
    "# Keep track of positions\n",
    "retriever = bm25s.BM25(k1=0.9, b=0.4)\n",
    "retriever.index(corpus_tokens)\n",
    "\n",
    "def search(query: str, k: int):\n",
    "    tokens = bm25s.tokenize(query, stopwords=\"en\", stemmer=stemmer, show_progress=False)\n",
    "    results, scores = retriever.retrieve(tokens, k=k, n_threads=1, show_progress=False)\n",
    "    \n",
    "    # 'results' is a list of token lists, so we can match them to the original folder names\n",
    "    for i, token_list in enumerate(results):\n",
    "        for j, ct in enumerate(corpus_tokens):\n",
    "            if ct == token_list:\n",
    "                folder_name = folder_names[j]\n",
    "                break\n",
    "        else:\n",
    "            folder_name = \"UNKNOWN\"\n",
    "        print(f\"result: {folder_name} , score: {scores[i]}\")\n",
    "\n",
    "search(\"Harry\", 3)\n"
   ]
  }
 ],
 "metadata": {
  "kernelspec": {
   "display_name": "Python 3",
   "language": "python",
   "name": "python3"
  },
  "language_info": {
   "codemirror_mode": {
    "name": "ipython",
    "version": 3
   },
   "file_extension": ".py",
   "mimetype": "text/x-python",
   "name": "python",
   "nbconvert_exporter": "python",
   "pygments_lexer": "ipython3",
   "version": "3.13.6"
  }
 },
 "nbformat": 4,
 "nbformat_minor": 5
}
