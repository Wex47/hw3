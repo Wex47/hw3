{
 "cells": [
  {
   "cell_type": "markdown",
   "id": "8fda62d2",
   "metadata": {},
   "source": [
    "# Task 4.4.0\n",
    "Implement the DSPy Module: Create a DSPy module that uses the strategy you devise to generate a cooperative answer."
   ]
  },
  {
   "cell_type": "code",
   "execution_count": null,
   "id": "b0766e09",
   "metadata": {
    "vscode": {
     "languageId": "plaintext"
    }
   },
   "outputs": [],
   "source": [
    "# DSPy pipeline with in the Multi-Hop fashion (in the forward). \n",
    "\n",
    "which retrieval tool to use? FAISS? ColBERTv2? -> both are best for larger scale like in our case. FAISS is less accurate but faster. ColBERTv2 is slower but more accurate.\n",
    "# can we run the top-k search - i.e. the context on local computer? to avoid exhausting the LLM usage?. Both should not cost any money!\n",
    "\n",
    "\n",
    "Step 1: Basics. use ChainOfThought or something simpler like Predict?\n",
    "\n",
    "DSPy signature: \n",
    "\n",
    "- input fields:\n",
    "- The previous turns (question, answer) \n",
    "- the context retrieved by the retriever (the context should be retrieved using RAG.)\n",
    "- the current question\n",
    "\n",
    "output fields:\n",
    "- previous turns\n",
    "- context\n",
    "- current question\n",
    "- summary of the student's goal or interests\n",
    "- pragmatic or cooperative need underlying the student's current question (based on the past conversation and retrieved spans)\n",
    "\n",
    "\n",
    "Step 2: use ChainOfThought?\n",
    "\n",
    "- input fields - > output from step 1.\n",
    "- output field: a cooperative answer to the current question.\n"
   ]
  }
 ],
 "metadata": {
  "language_info": {
   "name": "python"
  }
 },
 "nbformat": 4,
 "nbformat_minor": 5
}
